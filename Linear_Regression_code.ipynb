{
 "cells": [
  {
   "cell_type": "code",
   "execution_count": 1,
   "metadata": {},
   "outputs": [],
   "source": [
    "import numpy as np\n",
    "data=np.loadtxt(\"data.csv\",delimiter=\",\")"
   ]
  },
  {
   "cell_type": "code",
   "execution_count": 9,
   "metadata": {},
   "outputs": [
    {
     "data": {
      "text/plain": [
       "array([32.50234527, 53.42680403, 61.53035803, 47.47563963, 59.81320787,\n",
       "       55.14218841, 52.21179669, 39.29956669, 48.10504169, 52.55001444,\n",
       "       45.41973014, 54.35163488, 44.1640495 , 58.16847072, 56.72720806,\n",
       "       48.95588857, 44.68719623, 60.29732685, 45.61864377, 38.81681754,\n",
       "       66.18981661, 65.41605175, 47.48120861, 41.57564262, 51.84518691,\n",
       "       59.37082201, 57.31000344, 63.61556125, 46.73761941, 50.55676015,\n",
       "       52.22399609, 35.56783005, 42.43647694, 58.16454011, 57.50444762,\n",
       "       45.44053073, 61.89622268, 33.09383174, 36.43600951, 37.67565486,\n",
       "       44.55560838, 43.31828263, 50.07314563, 43.87061265, 62.99748075,\n",
       "       32.66904376, 40.16689901, 53.57507753, 33.86421497, 64.70713867,\n",
       "       38.11982403, 44.50253806, 40.59953838, 41.72067636, 51.08863468,\n",
       "       55.0780959 , 41.37772653, 62.49469743, 49.20388754, 41.10268519,\n",
       "       41.18201611, 50.18638949, 52.37844622, 50.13548549, 33.64470601,\n",
       "       39.55790122, 56.13038882, 57.36205213, 60.26921439, 35.67809389,\n",
       "       31.588117  , 53.66093226, 46.68222865, 43.10782022, 70.34607562,\n",
       "       44.49285588, 57.5045333 , 36.93007661, 55.80573336, 38.95476907,\n",
       "       56.9012147 , 56.86890066, 34.3331247 , 59.04974121, 57.78822399,\n",
       "       54.28232871, 51.0887199 , 50.28283635, 44.21174175, 38.00548801,\n",
       "       32.94047994, 53.69163957, 68.76573427, 46.2309665 , 68.31936082,\n",
       "       50.03017434, 49.23976534, 50.03957594, 48.14985889, 25.12848465])"
      ]
     },
     "execution_count": 9,
     "metadata": {},
     "output_type": "execute_result"
    }
   ],
   "source": [
    "x=data[:,0]\n",
    "y=data[:,1]\n",
    "x\n"
   ]
  },
  {
   "cell_type": "code",
   "execution_count": 3,
   "metadata": {},
   "outputs": [
    {
     "data": {
      "text/plain": [
       "(100,)"
      ]
     },
     "execution_count": 3,
     "metadata": {},
     "output_type": "execute_result"
    }
   ],
   "source": [
    "x.shape"
   ]
  },
  {
   "cell_type": "code",
   "execution_count": 4,
   "metadata": {},
   "outputs": [
    {
     "data": {
      "text/plain": [
       "(70,)"
      ]
     },
     "execution_count": 4,
     "metadata": {},
     "output_type": "execute_result"
    }
   ],
   "source": [
    "from sklearn import model_selection\n",
    "x_train,x_test, y_train, y_test=model_selection.train_test_split(x, y, test_size=0.3,random_state=0)\n",
    "x_train.shape"
   ]
  },
  {
   "cell_type": "code",
   "execution_count": 5,
   "metadata": {},
   "outputs": [],
   "source": [
    "#fit() dunction take the x_train and y_train data as a input and train the algo.\n",
    "\n",
    "def fit(x_train, y_train):\n",
    "    num=(x_train*y_train).mean() - x_train.mean() * y_train.mean()\n",
    "    den=(x_train**2).mean() - x_train.mean()**2\n",
    "    m=num/den\n",
    "    \n",
    "    c=y_train.mean() - m * x_train.mean()\n",
    "    \n",
    "    return m,c"
   ]
  },
  {
   "cell_type": "code",
   "execution_count": 6,
   "metadata": {},
   "outputs": [],
   "source": [
    "#predict() function predict the value\n",
    "\n",
    "def predict(x,m,c):\n",
    "    return m * x + c\n"
   ]
  },
  {
   "cell_type": "code",
   "execution_count": 7,
   "metadata": {},
   "outputs": [],
   "source": [
    "#score() and cost() return the cost and score of the data\n",
    "\n",
    "def score(y_truth, y_pre):\n",
    "    u=((y_truth - y_pre)**2).sum()\n",
    "    v=((y_truth - y_truth.mean())**2).sum()\n",
    "    return 1-u/v\n",
    "def cost(x,y,m,c):\n",
    "    return((y-m*x+c)**2).mean()"
   ]
  },
  {
   "cell_type": "code",
   "execution_count": 8,
   "metadata": {},
   "outputs": [
    {
     "name": "stdout",
     "output_type": "stream",
     "text": [
      "Test score: 0.4769365552229231\n",
      "Train score: 0.638860686598496\n",
      "1.3780014623662094 4.902019316324655\n",
      "Cost of train data 201.17224857759442\n",
      "Cost of test data 244.0167197791746\n"
     ]
    }
   ],
   "source": [
    "m , c = fit(x_train,y_train)\n",
    "\n",
    "#for test data\n",
    "y_test_pre = predict(x_test,m,c)\n",
    "print(\"Test score:\",score(y_test, y_test_pre))\n",
    "\n",
    "#for train data\n",
    "y_train_pre = predict(x_train,m,c)\n",
    "print(\"Train score:\",score(y_train, y_train_pre))\n",
    "print(m,c)\n",
    "\n",
    "print(\"Cost of train data\",cost(x_train,y_train,m,c))\n",
    "print(\"Cost of test data\",cost(x_test,y_test,m,c))\n",
    "      \n"
   ]
  },
  {
   "cell_type": "code",
   "execution_count": null,
   "metadata": {},
   "outputs": [],
   "source": []
  }
 ],
 "metadata": {
  "kernelspec": {
   "display_name": "Python 3",
   "language": "python",
   "name": "python3"
  },
  "language_info": {
   "codemirror_mode": {
    "name": "ipython",
    "version": 3
   },
   "file_extension": ".py",
   "mimetype": "text/x-python",
   "name": "python",
   "nbconvert_exporter": "python",
   "pygments_lexer": "ipython3",
   "version": "3.7.1"
  }
 },
 "nbformat": 4,
 "nbformat_minor": 2
}

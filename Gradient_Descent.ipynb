{
 "cells": [
  {
   "cell_type": "markdown",
   "metadata": {},
   "source": [
    "# Code for 1D data"
   ]
  },
  {
   "cell_type": "code",
   "execution_count": 90,
   "metadata": {},
   "outputs": [],
   "source": [
    "import numpy as np"
   ]
  },
  {
   "cell_type": "code",
   "execution_count": 151,
   "metadata": {},
   "outputs": [],
   "source": [
    "def step(points,learning_rate,m,c):\n",
    "    m_slope=0\n",
    "    c_slope=0\n",
    "    M=(len(points))\n",
    "    for i in range(M):\n",
    "        x=points[i,0]\n",
    "        y=points[i,1]\n",
    "        m_slope+= (-2/M) * (y-m*x-c)*x\n",
    "        c_slope+= (-2/M) * (y-m*x-c)\n",
    "    new_m = m - learning_rate* m_slope\n",
    "    new_c = c - learning_rate* c_slope\n",
    "    return new_m,new_c"
   ]
  },
  {
   "cell_type": "code",
   "execution_count": 143,
   "metadata": {},
   "outputs": [],
   "source": [
    "def cost(m,points,c):\n",
    "    total_cost=0\n",
    "    M=(len(points))\n",
    "    for i in range(M):\n",
    "        x=points[i,0]\n",
    "        y=points[i,1]\n",
    "        total_cost+= (1/M) * ((y-m*x-c)**2)\n",
    "    return total_cost"
   ]
  },
  {
   "cell_type": "code",
   "execution_count": 144,
   "metadata": {},
   "outputs": [],
   "source": [
    "def gd(points,learning_rate,number_itrations):\n",
    "    m=\n",
    "    c=\n",
    "    for i in range(number_itrations):\n",
    "        m,c=step(points,learning_rate,m,c)\n",
    "        print(i,\"Cost= \", cost(m,points,c))\n",
    "    return m,c"
   ]
  },
  {
   "cell_type": "code",
   "execution_count": 152,
   "metadata": {},
   "outputs": [],
   "source": [
    "def run():\n",
    "    data = np.loadtxt(\"data.csv\", delimiter=\",\")\n",
    "    learning_rate=0.0001\n",
    "    number_itrations=10\n",
    "    m,c= gd(data,learning_rate, number_itrations)\n",
    "    print(m,c)"
   ]
  },
  {
   "cell_type": "code",
   "execution_count": 153,
   "metadata": {},
   "outputs": [
    {
     "name": "stdout",
     "output_type": "stream",
     "text": [
      "0 Cost=  1485.6447853403884\n",
      "1 Cost=  458.39618954001145\n",
      "2 Cost=  199.72525202540803\n",
      "3 Cost=  134.58959256127437\n",
      "4 Cost=  118.18791248462972\n",
      "5 Cost=  114.05786413789036\n",
      "6 Cost=  113.01789896463401\n",
      "7 Cost=  112.75602924417291\n",
      "8 Cost=  112.69008248092909\n",
      "9 Cost=  112.67346642392336\n",
      "1.4779837997320844 0.0004746355332455301\n"
     ]
    }
   ],
   "source": [
    "run()"
   ]
  },
  {
   "cell_type": "code",
   "execution_count": null,
   "metadata": {},
   "outputs": [],
   "source": []
  }
 ],
 "metadata": {
  "kernelspec": {
   "display_name": "Python 3",
   "language": "python",
   "name": "python3"
  },
  "language_info": {
   "codemirror_mode": {
    "name": "ipython",
    "version": 3
   },
   "file_extension": ".py",
   "mimetype": "text/x-python",
   "name": "python",
   "nbconvert_exporter": "python",
   "pygments_lexer": "ipython3",
   "version": "3.7.1"
  }
 },
 "nbformat": 4,
 "nbformat_minor": 2
}

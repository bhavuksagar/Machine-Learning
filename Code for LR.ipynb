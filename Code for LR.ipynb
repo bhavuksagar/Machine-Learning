{
 "cells": [
  {
   "cell_type": "markdown",
   "metadata": {},
   "source": [
    "# for 1d data"
   ]
  },
  {
   "cell_type": "code",
   "execution_count": 1,
   "metadata": {},
   "outputs": [],
   "source": [
    "import numpy as np\n",
    "data=np.loadtxt(\"data.csv\",delimiter=\",\")"
   ]
  },
  {
   "cell_type": "code",
   "execution_count": 2,
   "metadata": {},
   "outputs": [],
   "source": [
    "x=data[:,0]\n",
    "y=data[:,1]\n"
   ]
  },
  {
   "cell_type": "code",
   "execution_count": 3,
   "metadata": {},
   "outputs": [
    {
     "data": {
      "text/plain": [
       "(100,)"
      ]
     },
     "execution_count": 3,
     "metadata": {},
     "output_type": "execute_result"
    }
   ],
   "source": [
    "x.shape"
   ]
  },
  {
   "cell_type": "code",
   "execution_count": 4,
   "metadata": {},
   "outputs": [
    {
     "data": {
      "text/plain": [
       "(70,)"
      ]
     },
     "execution_count": 4,
     "metadata": {},
     "output_type": "execute_result"
    }
   ],
   "source": [
    "from sklearn import model_selection\n",
    "x_train,x_test, y_train, y_test=model_selection.train_test_split(x, y, test_size=0.3,random_state=0)\n",
    "x_train.shape"
   ]
  },
  {
   "cell_type": "code",
   "execution_count": 5,
   "metadata": {},
   "outputs": [],
   "source": [
    "def fit(x_train, y_train):\n",
    "    num=(x_train*y_train).mean() - x_train.mean() * y_train.mean()\n",
    "    den=(x_train**2).mean() - x_train.mean()**2\n",
    "    m=num/den\n",
    "    \n",
    "    c=y_train.mean() - m * x_train.mean()\n",
    "    \n",
    "    return m,c"
   ]
  },
  {
   "cell_type": "code",
   "execution_count": 6,
   "metadata": {},
   "outputs": [],
   "source": [
    "def predict(x,m,c):\n",
    "    return m * x + c\n"
   ]
  },
  {
   "cell_type": "code",
   "execution_count": 7,
   "metadata": {},
   "outputs": [],
   "source": [
    "def score(y_truth, y_pre):\n",
    "    u=((y_truth - y_pre)**2).sum()\n",
    "    v=((y_truth - y_truth.mean())**2).sum()\n",
    "    return 1-u/v\n",
    "def cost(x,y,m,c):\n",
    "    return((y-m*x+c)**2).mean()"
   ]
  },
  {
   "cell_type": "code",
   "execution_count": 8,
   "metadata": {},
   "outputs": [
    {
     "name": "stdout",
     "output_type": "stream",
     "text": [
      "Test score: 0.4769365552229231\n",
      "Train score: 0.638860686598496\n",
      "1.3780014623662094 4.902019316324655\n",
      "Cost of train data 201.17224857759442\n",
      "Cost of test data 244.0167197791746\n"
     ]
    }
   ],
   "source": [
    "m , c = fit(x_train,y_train)\n",
    "\n",
    "#for test data\n",
    "y_test_pre = predict(x_test,m,c)\n",
    "print(\"Test score:\",score(y_test, y_test_pre))\n",
    "\n",
    "#for train data\n",
    "y_train_pre = predict(x_train,m,c)\n",
    "print(\"Train score:\",score(y_train, y_train_pre))\n",
    "print(m,c)\n",
    "\n",
    "print(\"Cost of train data\",cost(x_train,y_train,m,c))\n",
    "print(\"Cost of test data\",cost(x_test,y_test,m,c))\n",
    "      \n"
   ]
  },
  {
   "cell_type": "markdown",
   "metadata": {},
   "source": [
    "# 2d Data"
   ]
  },
  {
   "cell_type": "code",
   "execution_count": null,
   "metadata": {},
   "outputs": [],
   "source": []
  }
 ],
 "metadata": {
  "kernelspec": {
   "display_name": "Python 3",
   "language": "python",
   "name": "python3"
  },
  "language_info": {
   "codemirror_mode": {
    "name": "ipython",
    "version": 3
   },
   "file_extension": ".py",
   "mimetype": "text/x-python",
   "name": "python",
   "nbconvert_exporter": "python",
   "pygments_lexer": "ipython3",
   "version": "3.7.1"
  }
 },
 "nbformat": 4,
 "nbformat_minor": 2
}
